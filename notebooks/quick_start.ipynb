{
 "cells": [
  {
   "cell_type": "markdown",
   "metadata": {},
   "source": [
    "## Example of usage\n",
    "### 1. Loading the data"
   ]
  },
  {
   "cell_type": "markdown",
   "metadata": {},
   "source": [
    "A good starting point is to import the `BasinData` object class to store data from a basin's sediment sources. An instance of BasinData should be created, and the data should be loaded from a file. It is common to store data files in the 'data' directory one level above. The import and creation of an instance of `BasinData` are shown below."
   ]
  },
  {
   "cell_type": "code",
   "execution_count": 1,
   "metadata": {},
   "outputs": [],
   "source": [
    "# If you don't have PySASF instaled, you need set the directory:\n",
    "import sys\n",
    "sys.path.append('/home/tiagoburiol/PySASF')"
   ]
  },
  {
   "cell_type": "code",
   "execution_count": 2,
   "metadata": {},
   "outputs": [],
   "source": [
    "from pysasf.basindata import BasinData"
   ]
  },
  {
   "cell_type": "code",
   "execution_count": 3,
   "metadata": {},
   "outputs": [],
   "source": [
    "arvorezinha = BasinData(\"../data/arvorezinha_database.xlsx\")"
   ]
  },
  {
   "cell_type": "markdown",
   "metadata": {},
   "source": [
    "Once the file is loaded, some information and statistics can be visualized, as shown in the following examples."
   ]
  },
  {
   "cell_type": "code",
   "execution_count": 4,
   "metadata": {},
   "outputs": [
    {
     "data": {
      "text/html": [
       "<div>\n",
       "<style scoped>\n",
       "    .dataframe tbody tr th:only-of-type {\n",
       "        vertical-align: middle;\n",
       "    }\n",
       "\n",
       "    .dataframe tbody tr th {\n",
       "        vertical-align: top;\n",
       "    }\n",
       "\n",
       "    .dataframe thead th {\n",
       "        text-align: right;\n",
       "    }\n",
       "</style>\n",
       "<table border=\"1\" class=\"dataframe\">\n",
       "  <thead>\n",
       "    <tr style=\"text-align: right;\">\n",
       "      <th>Sample Sizes</th>\n",
       "      <th>Fe</th>\n",
       "      <th>Mn</th>\n",
       "      <th>Cu</th>\n",
       "      <th>Zn</th>\n",
       "      <th>Ca</th>\n",
       "      <th>K</th>\n",
       "      <th>P</th>\n",
       "    </tr>\n",
       "  </thead>\n",
       "  <tbody>\n",
       "    <tr>\n",
       "      <th>C</th>\n",
       "      <td>9</td>\n",
       "      <td>9</td>\n",
       "      <td>9</td>\n",
       "      <td>9</td>\n",
       "      <td>9</td>\n",
       "      <td>9</td>\n",
       "      <td>9</td>\n",
       "    </tr>\n",
       "    <tr>\n",
       "      <th>E</th>\n",
       "      <td>9</td>\n",
       "      <td>9</td>\n",
       "      <td>9</td>\n",
       "      <td>9</td>\n",
       "      <td>9</td>\n",
       "      <td>9</td>\n",
       "      <td>9</td>\n",
       "    </tr>\n",
       "    <tr>\n",
       "      <th>L</th>\n",
       "      <td>20</td>\n",
       "      <td>20</td>\n",
       "      <td>20</td>\n",
       "      <td>20</td>\n",
       "      <td>20</td>\n",
       "      <td>20</td>\n",
       "      <td>20</td>\n",
       "    </tr>\n",
       "    <tr>\n",
       "      <th>Y</th>\n",
       "      <td>24</td>\n",
       "      <td>24</td>\n",
       "      <td>24</td>\n",
       "      <td>24</td>\n",
       "      <td>24</td>\n",
       "      <td>24</td>\n",
       "      <td>24</td>\n",
       "    </tr>\n",
       "  </tbody>\n",
       "</table>\n",
       "</div>"
      ],
      "text/plain": [
       "Sample Sizes  Fe  Mn  Cu  Zn  Ca   K   P\n",
       "C              9   9   9   9   9   9   9\n",
       "E              9   9   9   9   9   9   9\n",
       "L             20  20  20  20  20  20  20\n",
       "Y             24  24  24  24  24  24  24"
      ]
     },
     "execution_count": 4,
     "metadata": {},
     "output_type": "execute_result"
    }
   ],
   "source": [
    "arvorezinha.infos()"
   ]
  },
  {
   "cell_type": "code",
   "execution_count": 5,
   "metadata": {},
   "outputs": [
    {
     "data": {
      "text/html": [
       "<div>\n",
       "<style scoped>\n",
       "    .dataframe tbody tr th:only-of-type {\n",
       "        vertical-align: middle;\n",
       "    }\n",
       "\n",
       "    .dataframe tbody tr th {\n",
       "        vertical-align: top;\n",
       "    }\n",
       "\n",
       "    .dataframe thead th {\n",
       "        text-align: right;\n",
       "    }\n",
       "</style>\n",
       "<table border=\"1\" class=\"dataframe\">\n",
       "  <thead>\n",
       "    <tr style=\"text-align: right;\">\n",
       "      <th>Means</th>\n",
       "      <th>Fe</th>\n",
       "      <th>Mn</th>\n",
       "      <th>Cu</th>\n",
       "      <th>Zn</th>\n",
       "      <th>Ca</th>\n",
       "      <th>K</th>\n",
       "      <th>P</th>\n",
       "    </tr>\n",
       "  </thead>\n",
       "  <tbody>\n",
       "    <tr>\n",
       "      <th>C</th>\n",
       "      <td>6.21</td>\n",
       "      <td>1470.45</td>\n",
       "      <td>18.23</td>\n",
       "      <td>79.71</td>\n",
       "      <td>165.23</td>\n",
       "      <td>3885.12</td>\n",
       "      <td>0.03</td>\n",
       "    </tr>\n",
       "    <tr>\n",
       "      <th>E</th>\n",
       "      <td>6.76</td>\n",
       "      <td>811.95</td>\n",
       "      <td>23.28</td>\n",
       "      <td>86.02</td>\n",
       "      <td>76.10</td>\n",
       "      <td>3182.27</td>\n",
       "      <td>0.01</td>\n",
       "    </tr>\n",
       "    <tr>\n",
       "      <th>L</th>\n",
       "      <td>6.63</td>\n",
       "      <td>1854.05</td>\n",
       "      <td>20.05</td>\n",
       "      <td>88.28</td>\n",
       "      <td>159.17</td>\n",
       "      <td>6572.31</td>\n",
       "      <td>0.06</td>\n",
       "    </tr>\n",
       "    <tr>\n",
       "      <th>Y</th>\n",
       "      <td>6.16</td>\n",
       "      <td>1119.02</td>\n",
       "      <td>30.92</td>\n",
       "      <td>99.66</td>\n",
       "      <td>276.47</td>\n",
       "      <td>9445.76</td>\n",
       "      <td>0.07</td>\n",
       "    </tr>\n",
       "  </tbody>\n",
       "</table>\n",
       "</div>"
      ],
      "text/plain": [
       "Means    Fe       Mn     Cu     Zn      Ca        K     P\n",
       "C      6.21  1470.45  18.23  79.71  165.23  3885.12  0.03\n",
       "E      6.76   811.95  23.28  86.02   76.10  3182.27  0.01\n",
       "L      6.63  1854.05  20.05  88.28  159.17  6572.31  0.06\n",
       "Y      6.16  1119.02  30.92  99.66  276.47  9445.76  0.07"
      ]
     },
     "execution_count": 5,
     "metadata": {},
     "output_type": "execute_result"
    }
   ],
   "source": [
    "arvorezinha.means()"
   ]
  },
  {
   "cell_type": "code",
   "execution_count": 6,
   "metadata": {},
   "outputs": [
    {
     "data": {
      "text/html": [
       "<div>\n",
       "<style scoped>\n",
       "    .dataframe tbody tr th:only-of-type {\n",
       "        vertical-align: middle;\n",
       "    }\n",
       "\n",
       "    .dataframe tbody tr th {\n",
       "        vertical-align: top;\n",
       "    }\n",
       "\n",
       "    .dataframe thead th {\n",
       "        text-align: right;\n",
       "    }\n",
       "</style>\n",
       "<table border=\"1\" class=\"dataframe\">\n",
       "  <thead>\n",
       "    <tr style=\"text-align: right;\">\n",
       "      <th>STD</th>\n",
       "      <th>Fe</th>\n",
       "      <th>Mn</th>\n",
       "      <th>Cu</th>\n",
       "      <th>Zn</th>\n",
       "      <th>Ca</th>\n",
       "      <th>K</th>\n",
       "      <th>P</th>\n",
       "    </tr>\n",
       "  </thead>\n",
       "  <tbody>\n",
       "    <tr>\n",
       "      <th>C</th>\n",
       "      <td>0.48</td>\n",
       "      <td>548.49</td>\n",
       "      <td>2.41</td>\n",
       "      <td>7.84</td>\n",
       "      <td>82.19</td>\n",
       "      <td>1598.45</td>\n",
       "      <td>0.01</td>\n",
       "    </tr>\n",
       "    <tr>\n",
       "      <th>E</th>\n",
       "      <td>0.98</td>\n",
       "      <td>399.90</td>\n",
       "      <td>1.98</td>\n",
       "      <td>6.96</td>\n",
       "      <td>26.21</td>\n",
       "      <td>948.95</td>\n",
       "      <td>0.01</td>\n",
       "    </tr>\n",
       "    <tr>\n",
       "      <th>L</th>\n",
       "      <td>1.07</td>\n",
       "      <td>399.77</td>\n",
       "      <td>3.86</td>\n",
       "      <td>15.70</td>\n",
       "      <td>79.33</td>\n",
       "      <td>2205.99</td>\n",
       "      <td>0.01</td>\n",
       "    </tr>\n",
       "    <tr>\n",
       "      <th>Y</th>\n",
       "      <td>1.01</td>\n",
       "      <td>294.13</td>\n",
       "      <td>10.13</td>\n",
       "      <td>8.40</td>\n",
       "      <td>79.37</td>\n",
       "      <td>2419.21</td>\n",
       "      <td>0.02</td>\n",
       "    </tr>\n",
       "  </tbody>\n",
       "</table>\n",
       "</div>"
      ],
      "text/plain": [
       "STD    Fe      Mn     Cu     Zn     Ca        K     P\n",
       "C    0.48  548.49   2.41   7.84  82.19  1598.45  0.01\n",
       "E    0.98  399.90   1.98   6.96  26.21   948.95  0.01\n",
       "L    1.07  399.77   3.86  15.70  79.33  2205.99  0.01\n",
       "Y    1.01  294.13  10.13   8.40  79.37  2419.21  0.02"
      ]
     },
     "execution_count": 6,
     "metadata": {},
     "output_type": "execute_result"
    }
   ],
   "source": [
    "arvorezinha.std()"
   ]
  },
  {
   "cell_type": "markdown",
   "metadata": {},
   "source": [
    "### 2. Using the clarkeminela module\n",
    "\n",
    "We can easily reproduce the Clarke and Minella (2016) method for measuring the increase in uncertainty when sampling sediment fingerprinting. A full explanation of this method is available in the paper 'Evaluating sampling efficiency when estimating sediment source contributions to suspended sediment in rivers by fingerprinting.' DOI: 10.1002/hyp.10866. The steps required to achieve the same results described in the paper can be executed with a few function calls, as shown below."
   ]
  },
  {
   "cell_type": "markdown",
   "metadata": {},
   "source": [
    "First, we need to import the `clarkeminella` analysis module. We will refer to it as `cm`."
   ]
  },
  {
   "cell_type": "code",
   "execution_count": 7,
   "metadata": {},
   "outputs": [],
   "source": [
    "import pysasf.clarkeminella as cm"
   ]
  },
  {
   "cell_type": "markdown",
   "metadata": {},
   "source": [
    "Now we will calculate and save in a file all the possible combinations of proportions contributed by the sediment sources. The routine  `calculate_and_save_all_proportions()` will create two files: one for all possible combinations for each sample in the database, saving their indexes, and another file for the corresponding proportions. The default method for calculation is ordinary least squares. Other methods can be chosen using `arvorezinha.set_solver_option(option)`. \n",
    "\n",
    "\n",
    "To set your output folder using `arvorezinha.set_output_folder(path='/yourpath/folder')`"
   ]
  },
  {
   "cell_type": "code",
   "execution_count": 8,
   "metadata": {},
   "outputs": [
    {
     "name": "stdout",
     "output_type": "stream",
     "text": [
      "Setting output folder as: ../output\n",
      "Folder to save output files is: '../output'.\n"
     ]
    }
   ],
   "source": [
    "arvorezinha.set_output_folder('../output')"
   ]
  },
  {
   "cell_type": "code",
   "execution_count": 9,
   "metadata": {},
   "outputs": [
    {
     "name": "stdout",
     "output_type": "stream",
     "text": [
      "Done! Time processing: 1.893726110458374\n",
      "Total combinations: 38880 , shape of proportions: (38880, 3)\n",
      "Saving combinations indexes in: ../output/C9E9L20Y24_combstxt\n",
      "Saving proportions calculated in: ../output/C9E9L20Y24_propstxt\n",
      "Feasebles boolean array is sabed in: ../output/C9E9L20Y24_feastxt\n",
      "Time for save files: 0.2960786819458008\n"
     ]
    }
   ],
   "source": [
    "arvorezinha.calculate_and_save_all_proportions(load=False)"
   ]
  },
  {
   "cell_type": "markdown",
   "metadata": {},
   "source": [
    "If you want to store the proportions solutions and the combination indexes, you can choose `load=True`(is the defoult option) when call the rotine above. The proportions solutions and the combination indexes wil be  stored on `BasinData`object class.\n",
    "\n",
    "For read the files created and load proportions solutions and the combination indexes we can use the `load_combs_and_props_from_files(combs_file, props_file)` function. A example is showed below."
   ]
  },
  {
   "cell_type": "code",
   "execution_count": 10,
   "metadata": {},
   "outputs": [
    {
     "name": "stdout",
     "output_type": "stream",
     "text": [
      "Loading combs and props files from: ../output\n"
     ]
    }
   ],
   "source": [
    "combs, Ps = arvorezinha.load_combs_and_props_from_files(arvorezinha.output_folder+'/C9E9L20Y24_combs.txt',\n",
    "                                                        arvorezinha.output_folder+'/C9E9L20Y24_props.txt')"
   ]
  },
  {
   "cell_type": "markdown",
   "metadata": {},
   "source": [
    "We can verify the loaded array data as follows:"
   ]
  },
  {
   "cell_type": "code",
   "execution_count": 11,
   "metadata": {},
   "outputs": [
    {
     "data": {
      "text/plain": [
       "array([[ 0,  0,  0,  0],\n",
       "       [ 0,  0,  0,  1],\n",
       "       [ 0,  0,  0,  2],\n",
       "       ...,\n",
       "       [ 8,  8, 19, 21],\n",
       "       [ 8,  8, 19, 22],\n",
       "       [ 8,  8, 19, 23]])"
      ]
     },
     "metadata": {},
     "output_type": "display_data"
    },
    {
     "data": {
      "text/plain": [
       "array([[ 0.445 , -0.2977,  0.8526],\n",
       "       [ 0.3761,  0.128 ,  0.4959],\n",
       "       [ 0.3454,  0.1248,  0.5298],\n",
       "       ...,\n",
       "       [ 0.4963, -0.0081,  0.5118],\n",
       "       [ 0.4212, -0.6676,  1.2464],\n",
       "       [-0.0679, -0.138 ,  1.206 ]])"
      ]
     },
     "metadata": {},
     "output_type": "display_data"
    }
   ],
   "source": [
    "display(combs, Ps)"
   ]
  },
  {
   "cell_type": "markdown",
   "metadata": {},
   "source": [
    "The Clarke and Minella's criterion for considering a feasible solution is that the proportion P1 and P2 contributed by each source is less than 1 and greater than 0. We can extract the feaseble solutions usin a function `cm_feasebles` of `clarckeminella` analysis module. This is showed below."
   ]
  },
  {
   "cell_type": "code",
   "execution_count": 12,
   "metadata": {},
   "outputs": [
    {
     "name": "stdout",
     "output_type": "stream",
     "text": [
      "The total number of feasible solution is: 8132\n"
     ]
    }
   ],
   "source": [
    "Pfea = cm.cm_feasebles(Ps)\n",
    "print(\"The total number of feasible solution is:\", len(Pfea))"
   ]
  },
  {
   "cell_type": "markdown",
   "metadata": {},
   "source": [
    "A confidence region can be calculated in 2 dimentions using the $95 \\%$ points closest to the feaseble proportions average using Mahalanobis's distances until the mean of feaseble proportions. A more detailed explanation can be can be obtained in the Clarke and Minella's paper.\n",
    "\n",
    "The `stat` module  implement a function for get a confidence region, as can be seen in the example below."
   ]
  },
  {
   "cell_type": "code",
   "execution_count": 13,
   "metadata": {},
   "outputs": [],
   "source": [
    "from pysasf import stats"
   ]
  },
  {
   "cell_type": "code",
   "execution_count": 14,
   "metadata": {},
   "outputs": [
    {
     "name": "stdout",
     "output_type": "stream",
     "text": [
      "The total number of points in 95% confidence region is: 7725\n"
     ]
    }
   ],
   "source": [
    "Pcr = stats.confidence_region(Pfea[:,0:2], space_dist='mahalanobis')\n",
    "print(\"The total number of points in 95% confidence region is:\", len(Pcr))"
   ]
  },
  {
   "cell_type": "markdown",
   "metadata": {},
   "source": [
    "Lets draw the confidence region usin the `draw_hull(pts)` function from `plots`module."
   ]
  },
  {
   "cell_type": "code",
   "execution_count": 15,
   "metadata": {},
   "outputs": [
    {
     "name": "stdout",
     "output_type": "stream",
     "text": [
      "Please, set a path to save the convex hull figure.\n"
     ]
    },
    {
     "data": {
      "image/png": "[encoded data removed]",
      "text/plain": [
       "<Figure size 400x400 with 1 Axes>"
      ]
     },
     "metadata": {},
     "output_type": "display_data"
    }
   ],
   "source": [
    "from pysasf import plots\n",
    "plots.draw_hull(Pcr, title = 'Confidence region')"
   ]
  },
  {
   "cell_type": "markdown",
   "metadata": {},
   "source": [
    "To randomly take a subset of the solutions, with a sample size of 4 for source L, for example, we can do as shown below."
   ]
  },
  {
   "cell_type": "code",
   "execution_count": 16,
   "metadata": {},
   "outputs": [],
   "source": [
    "from pysasf import stats"
   ]
  },
  {
   "cell_type": "code",
   "execution_count": 17,
   "metadata": {},
   "outputs": [
    {
     "name": "stdout",
     "output_type": "stream",
     "text": [
      "Suconjunto Ps de tamanho: 6480\n"
     ]
    }
   ],
   "source": [
    "combs,Ps = stats.randon_props_subsamples(arvorezinha, 'Y', 4)\n",
    "print (\"Suconjunto Ps de tamanho:\", Ps.shape[0])"
   ]
  },
  {
   "cell_type": "markdown",
   "metadata": {},
   "source": [
    "To make the plot of the points and the 95% confidence region and save it to a file, we proceed as follows:"
   ]
  },
  {
   "cell_type": "code",
   "execution_count": 18,
   "metadata": {},
   "outputs": [],
   "source": [
    "P_cr = cm.cm_feasebles(Ps)"
   ]
  },
  {
   "cell_type": "code",
   "execution_count": 19,
   "metadata": {},
   "outputs": [
    {
     "name": "stdout",
     "output_type": "stream",
     "text": [
      "Plot figure saved in: ../output/convex_hull.png\n"
     ]
    }
   ],
   "source": [
    "plots.draw_hull(P_cr, savefig = True, path=arvorezinha.output_folder,\n",
    "                title = 'Confidence region 95% whith Y size = 2')"
   ]
  },
  {
   "cell_type": "markdown",
   "metadata": {},
   "source": [
    "A figure will be saved in the output folder. If we want to create several plots with a sequence of reductions in the number of samples for a given source, we can proceed as follows."
   ]
  },
  {
   "cell_type": "code",
   "execution_count": 20,
   "metadata": {},
   "outputs": [
    {
     "name": "stdout",
     "output_type": "stream",
     "text": [
      "Plot figure saved in: ../output/confidence_region_Y2.png\n",
      "Saving figure named: confidence_region_Y2\n",
      "Plot figure saved in: ../output/confidence_region_Y4.png\n",
      "Saving figure named: confidence_region_Y4\n",
      "Plot figure saved in: ../output/confidence_region_Y8.png\n",
      "Saving figure named: confidence_region_Y8\n",
      "Plot figure saved in: ../output/confidence_region_Y12.png\n",
      "Saving figure named: confidence_region_Y12\n",
      "Plot figure saved in: ../output/confidence_region_Y16.png\n",
      "Saving figure named: confidence_region_Y16\n",
      "Plot figure saved in: ../output/confidence_region_Y20.png\n",
      "Saving figure named: confidence_region_Y20\n",
      "Plot figure saved in: ../output/confidence_region_Y24.png\n",
      "Saving figure named: confidence_region_Y24\n"
     ]
    }
   ],
   "source": [
    "for n in [2,4,8,12,16,20,24]:\n",
    "    combs,Ps = stats.randon_props_subsamples(arvorezinha, 'Y', n)\n",
    "    P_feas = cm.cm_feasebles(Ps)\n",
    "    P_cr = stats.confidence_region(P_feas,space_dist='mahalanobis2d')\n",
    "    name = 'confidence_region_Y'+str(n)\n",
    "    ax = plots.draw_hull(P_cr, savefig = True, \n",
    "                         path = arvorezinha.output_folder,filename = name)\n",
    "    print('Saving figure named:', name)\n",
    "    "
   ]
  },
  {
   "cell_type": "markdown",
   "metadata": {},
   "source": [
    "### 3. Processing data from reductions and repetitions "
   ]
  },
  {
   "cell_type": "markdown",
   "metadata": {},
   "source": [
    "As a result of Clarke and Minella's article presents \n",
    "table and graphs of average values ​​for 50 repetitions taking\n",
    "subsamples of different sizes drawn from each sample set.\n",
    "A 95% confidence regions are calculated for each sample reduction and the proportions $P_1$ and $P_2$,\n",
    "along with the standard deviations is calculated."
   ]
  },
  {
   "cell_type": "markdown",
   "metadata": {},
   "source": [
    "De full analysis can be repreduced and customized usin the routine `run_repetitions_and_reduction (basindata, source_key, list_of_reductions,repetitions=50)`. The results is saved in a `csv`file an can be stored and load later. A example is showed below."
   ]
  },
  {
   "cell_type": "code",
   "execution_count": 21,
   "metadata": {},
   "outputs": [
    {
     "name": "stdout",
     "output_type": "stream",
     "text": [
      "Time for all runs: 7.855192184448242\n",
      "Saving in C9E9L20Y24_L-2-4-8-12-16-20.csv\n"
     ]
    },
    {
     "data": {
      "text/html": [
       "<div>\n",
       "<style scoped>\n",
       "    .dataframe tbody tr th:only-of-type {\n",
       "        vertical-align: middle;\n",
       "    }\n",
       "\n",
       "    .dataframe tbody tr th {\n",
       "        vertical-align: top;\n",
       "    }\n",
       "\n",
       "    .dataframe thead th {\n",
       "        text-align: right;\n",
       "    }\n",
       "</style>\n",
       "<table border=\"1\" class=\"dataframe\">\n",
       "  <thead>\n",
       "    <tr style=\"text-align: right;\">\n",
       "      <th></th>\n",
       "      <th>nSamp</th>\n",
       "      <th>CV</th>\n",
       "      <th>Mean</th>\n",
       "      <th>Std</th>\n",
       "      <th>Total</th>\n",
       "      <th>Feas</th>\n",
       "      <th>MeanP1</th>\n",
       "      <th>MeanP2</th>\n",
       "      <th>MeanP3</th>\n",
       "    </tr>\n",
       "  </thead>\n",
       "  <tbody>\n",
       "    <tr>\n",
       "      <th>0</th>\n",
       "      <td>2</td>\n",
       "      <td>13.6022</td>\n",
       "      <td>0.3463</td>\n",
       "      <td>0.0471</td>\n",
       "      <td>162</td>\n",
       "      <td>859</td>\n",
       "      <td>0.371663</td>\n",
       "      <td>0.278888</td>\n",
       "      <td>0.349450</td>\n",
       "    </tr>\n",
       "    <tr>\n",
       "      <th>1</th>\n",
       "      <td>4</td>\n",
       "      <td>7.5992</td>\n",
       "      <td>0.3814</td>\n",
       "      <td>0.0290</td>\n",
       "      <td>324</td>\n",
       "      <td>1527</td>\n",
       "      <td>0.308342</td>\n",
       "      <td>0.235412</td>\n",
       "      <td>0.456241</td>\n",
       "    </tr>\n",
       "    <tr>\n",
       "      <th>2</th>\n",
       "      <td>8</td>\n",
       "      <td>4.0347</td>\n",
       "      <td>0.3928</td>\n",
       "      <td>0.0158</td>\n",
       "      <td>648</td>\n",
       "      <td>2821</td>\n",
       "      <td>0.369675</td>\n",
       "      <td>0.266656</td>\n",
       "      <td>0.363668</td>\n",
       "    </tr>\n",
       "    <tr>\n",
       "      <th>3</th>\n",
       "      <td>12</td>\n",
       "      <td>2.3799</td>\n",
       "      <td>0.4001</td>\n",
       "      <td>0.0095</td>\n",
       "      <td>972</td>\n",
       "      <td>4713</td>\n",
       "      <td>0.334568</td>\n",
       "      <td>0.230881</td>\n",
       "      <td>0.434550</td>\n",
       "    </tr>\n",
       "    <tr>\n",
       "      <th>4</th>\n",
       "      <td>16</td>\n",
       "      <td>1.2213</td>\n",
       "      <td>0.4010</td>\n",
       "      <td>0.0049</td>\n",
       "      <td>1296</td>\n",
       "      <td>6539</td>\n",
       "      <td>0.337595</td>\n",
       "      <td>0.243510</td>\n",
       "      <td>0.418894</td>\n",
       "    </tr>\n",
       "    <tr>\n",
       "      <th>5</th>\n",
       "      <td>20</td>\n",
       "      <td>0.0000</td>\n",
       "      <td>0.4024</td>\n",
       "      <td>0.0000</td>\n",
       "      <td>1620</td>\n",
       "      <td>8132</td>\n",
       "      <td>0.339917</td>\n",
       "      <td>0.245394</td>\n",
       "      <td>0.414688</td>\n",
       "    </tr>\n",
       "  </tbody>\n",
       "</table>\n",
       "</div>"
      ],
      "text/plain": [
       "   nSamp       CV    Mean     Std  Total  Feas    MeanP1    MeanP2    MeanP3\n",
       "0      2  13.6022  0.3463  0.0471    162   859  0.371663  0.278888  0.349450\n",
       "1      4   7.5992  0.3814  0.0290    324  1527  0.308342  0.235412  0.456241\n",
       "2      8   4.0347  0.3928  0.0158    648  2821  0.369675  0.266656  0.363668\n",
       "3     12   2.3799  0.4001  0.0095    972  4713  0.334568  0.230881  0.434550\n",
       "4     16   1.2213  0.4010  0.0049   1296  6539  0.337595  0.243510  0.418894\n",
       "5     20   0.0000  0.4024  0.0000   1620  8132  0.339917  0.245394  0.414688"
      ]
     },
     "execution_count": 21,
     "metadata": {},
     "output_type": "execute_result"
    }
   ],
   "source": [
    "cm.run_repetitions_and_reduction (arvorezinha, 'L',[2,4,8,12,16,20,])"
   ]
  },
  {
   "cell_type": "code",
   "execution_count": 22,
   "metadata": {},
   "outputs": [
    {
     "name": "stdout",
     "output_type": "stream",
     "text": [
      "Time for all runs: 8.775497436523438\n",
      "Saving in C9E9L20Y24_Y-2-4-8-12-16-20-24.csv\n"
     ]
    },
    {
     "data": {
      "text/html": [
       "<div>\n",
       "<style scoped>\n",
       "    .dataframe tbody tr th:only-of-type {\n",
       "        vertical-align: middle;\n",
       "    }\n",
       "\n",
       "    .dataframe tbody tr th {\n",
       "        vertical-align: top;\n",
       "    }\n",
       "\n",
       "    .dataframe thead th {\n",
       "        text-align: right;\n",
       "    }\n",
       "</style>\n",
       "<table border=\"1\" class=\"dataframe\">\n",
       "  <thead>\n",
       "    <tr style=\"text-align: right;\">\n",
       "      <th></th>\n",
       "      <th>nSamp</th>\n",
       "      <th>CV</th>\n",
       "      <th>Mean</th>\n",
       "      <th>Std</th>\n",
       "      <th>Total</th>\n",
       "      <th>Feas</th>\n",
       "      <th>MeanP1</th>\n",
       "      <th>MeanP2</th>\n",
       "      <th>MeanP3</th>\n",
       "    </tr>\n",
       "  </thead>\n",
       "  <tbody>\n",
       "    <tr>\n",
       "      <th>0</th>\n",
       "      <td>2</td>\n",
       "      <td>15.1352</td>\n",
       "      <td>0.3603</td>\n",
       "      <td>0.0545</td>\n",
       "      <td>3240</td>\n",
       "      <td>473</td>\n",
       "      <td>0.353225</td>\n",
       "      <td>0.244306</td>\n",
       "      <td>0.402471</td>\n",
       "    </tr>\n",
       "    <tr>\n",
       "      <th>1</th>\n",
       "      <td>4</td>\n",
       "      <td>8.1691</td>\n",
       "      <td>0.3817</td>\n",
       "      <td>0.0312</td>\n",
       "      <td>6480</td>\n",
       "      <td>2119</td>\n",
       "      <td>0.403431</td>\n",
       "      <td>0.203006</td>\n",
       "      <td>0.393560</td>\n",
       "    </tr>\n",
       "    <tr>\n",
       "      <th>2</th>\n",
       "      <td>8</td>\n",
       "      <td>3.5203</td>\n",
       "      <td>0.3949</td>\n",
       "      <td>0.0139</td>\n",
       "      <td>12960</td>\n",
       "      <td>3584</td>\n",
       "      <td>0.351959</td>\n",
       "      <td>0.223128</td>\n",
       "      <td>0.424913</td>\n",
       "    </tr>\n",
       "    <tr>\n",
       "      <th>3</th>\n",
       "      <td>12</td>\n",
       "      <td>2.2865</td>\n",
       "      <td>0.4029</td>\n",
       "      <td>0.0092</td>\n",
       "      <td>19440</td>\n",
       "      <td>3196</td>\n",
       "      <td>0.301662</td>\n",
       "      <td>0.236558</td>\n",
       "      <td>0.461779</td>\n",
       "    </tr>\n",
       "    <tr>\n",
       "      <th>4</th>\n",
       "      <td>16</td>\n",
       "      <td>1.9065</td>\n",
       "      <td>0.4004</td>\n",
       "      <td>0.0076</td>\n",
       "      <td>25920</td>\n",
       "      <td>5557</td>\n",
       "      <td>0.361002</td>\n",
       "      <td>0.251664</td>\n",
       "      <td>0.387333</td>\n",
       "    </tr>\n",
       "    <tr>\n",
       "      <th>5</th>\n",
       "      <td>20</td>\n",
       "      <td>1.0930</td>\n",
       "      <td>0.4022</td>\n",
       "      <td>0.0044</td>\n",
       "      <td>32400</td>\n",
       "      <td>6984</td>\n",
       "      <td>0.345001</td>\n",
       "      <td>0.251578</td>\n",
       "      <td>0.403419</td>\n",
       "    </tr>\n",
       "    <tr>\n",
       "      <th>6</th>\n",
       "      <td>24</td>\n",
       "      <td>0.0000</td>\n",
       "      <td>0.4024</td>\n",
       "      <td>0.0000</td>\n",
       "      <td>38880</td>\n",
       "      <td>8132</td>\n",
       "      <td>0.339917</td>\n",
       "      <td>0.245394</td>\n",
       "      <td>0.414688</td>\n",
       "    </tr>\n",
       "  </tbody>\n",
       "</table>\n",
       "</div>"
      ],
      "text/plain": [
       "   nSamp       CV    Mean     Std  Total  Feas    MeanP1    MeanP2    MeanP3\n",
       "0      2  15.1352  0.3603  0.0545   3240   473  0.353225  0.244306  0.402471\n",
       "1      4   8.1691  0.3817  0.0312   6480  2119  0.403431  0.203006  0.393560\n",
       "2      8   3.5203  0.3949  0.0139  12960  3584  0.351959  0.223128  0.424913\n",
       "3     12   2.2865  0.4029  0.0092  19440  3196  0.301662  0.236558  0.461779\n",
       "4     16   1.9065  0.4004  0.0076  25920  5557  0.361002  0.251664  0.387333\n",
       "5     20   1.0930  0.4022  0.0044  32400  6984  0.345001  0.251578  0.403419\n",
       "6     24   0.0000  0.4024  0.0000  38880  8132  0.339917  0.245394  0.414688"
      ]
     },
     "execution_count": 22,
     "metadata": {},
     "output_type": "execute_result"
    }
   ],
   "source": [
    "cm.run_repetitions_and_reduction (arvorezinha, 'Y',[2,4,8,12,16,20,24])"
   ]
  },
  {
   "cell_type": "code",
   "execution_count": 23,
   "metadata": {},
   "outputs": [
    {
     "data": {
      "image/png": "[encoded data removed]",
      "text/plain": [
       "<Figure size 800x400 with 1 Axes>"
      ]
     },
     "metadata": {},
     "output_type": "display_data"
    }
   ],
   "source": [
    "from pysasf import plots\n",
    "files = [arvorezinha.output_folder+'/'+'C9E9L20Y24_Y-2-4-8-12-16-20-24.csv',\n",
    "         arvorezinha.output_folder+'/'+'C9E9L20Y24_L-2-4-8-12-16-20.csv']\n",
    "\n",
    "plots.plot_cm_outputs(files, 'nSamp', 'CV', savefig=False)"
   ]
  }
 ],
 "metadata": {
  "colab": {
   "name": "fingerprinting_v3.ipynb",
   "version": ""
  },
  "kernelspec": {
   "display_name": "Python 3 (ipykernel)",
   "language": "python",
   "name": "python3"
  },
  "language_info": {
   "codemirror_mode": {
    "name": "ipython",
    "version": 3
   },
   "file_extension": ".py",
   "mimetype": "text/x-python",
   "name": "python",
   "nbconvert_exporter": "python",
   "pygments_lexer": "ipython3",
   "version": "3.12.4"
  }
 },
 "nbformat": 4,
 "nbformat_minor": 4
}
