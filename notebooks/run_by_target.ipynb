{
 "cells": [
  {
   "cell_type": "markdown",
   "metadata": {},
   "source": [
    "## Example os sample reduction analisys by target\n",
    "### 1. Loading the data"
   ]
  },
  {
   "cell_type": "markdown",
   "metadata": {},
   "source": [
    "Let's import the `BasinData` object class to store data from a basin's sediment sources. An instance of BasinData should be created, and the data should be loaded from a file. "
   ]
  },
  {
   "cell_type": "code",
   "execution_count": 1,
   "metadata": {},
   "outputs": [],
   "source": [
    "# If you don't have PySASF instaled, you need set the directory:\n",
    "import sys\n",
    "sys.path.append('/home/tiagoburiol/PySASF')"
   ]
  },
  {
   "cell_type": "code",
   "execution_count": 2,
   "metadata": {},
   "outputs": [],
   "source": [
    "from pysasf.basindata import BasinData"
   ]
  },
  {
   "cell_type": "code",
   "execution_count": 3,
   "metadata": {},
   "outputs": [],
   "source": [
    "database = BasinData(\"../data/arvorezinha_database.xlsx\")"
   ]
  },
  {
   "cell_type": "markdown",
   "metadata": {},
   "source": [
    "Once the file is loaded, some information and statistics can be visualized, as shown in the following examples."
   ]
  },
  {
   "cell_type": "code",
   "execution_count": 4,
   "metadata": {},
   "outputs": [
    {
     "data": {
      "text/html": [
       "<div>\n",
       "<style scoped>\n",
       "    .dataframe tbody tr th:only-of-type {\n",
       "        vertical-align: middle;\n",
       "    }\n",
       "\n",
       "    .dataframe tbody tr th {\n",
       "        vertical-align: top;\n",
       "    }\n",
       "\n",
       "    .dataframe thead th {\n",
       "        text-align: right;\n",
       "    }\n",
       "</style>\n",
       "<table border=\"1\" class=\"dataframe\">\n",
       "  <thead>\n",
       "    <tr style=\"text-align: right;\">\n",
       "      <th>Sample Sizes</th>\n",
       "      <th>Fe</th>\n",
       "      <th>Mn</th>\n",
       "      <th>Cu</th>\n",
       "      <th>Zn</th>\n",
       "      <th>Ca</th>\n",
       "      <th>K</th>\n",
       "      <th>P</th>\n",
       "    </tr>\n",
       "  </thead>\n",
       "  <tbody>\n",
       "    <tr>\n",
       "      <th>C</th>\n",
       "      <td>9</td>\n",
       "      <td>9</td>\n",
       "      <td>9</td>\n",
       "      <td>9</td>\n",
       "      <td>9</td>\n",
       "      <td>9</td>\n",
       "      <td>9</td>\n",
       "    </tr>\n",
       "    <tr>\n",
       "      <th>E</th>\n",
       "      <td>9</td>\n",
       "      <td>9</td>\n",
       "      <td>9</td>\n",
       "      <td>9</td>\n",
       "      <td>9</td>\n",
       "      <td>9</td>\n",
       "      <td>9</td>\n",
       "    </tr>\n",
       "    <tr>\n",
       "      <th>L</th>\n",
       "      <td>20</td>\n",
       "      <td>20</td>\n",
       "      <td>20</td>\n",
       "      <td>20</td>\n",
       "      <td>20</td>\n",
       "      <td>20</td>\n",
       "      <td>20</td>\n",
       "    </tr>\n",
       "    <tr>\n",
       "      <th>Y</th>\n",
       "      <td>24</td>\n",
       "      <td>24</td>\n",
       "      <td>24</td>\n",
       "      <td>24</td>\n",
       "      <td>24</td>\n",
       "      <td>24</td>\n",
       "      <td>24</td>\n",
       "    </tr>\n",
       "  </tbody>\n",
       "</table>\n",
       "</div>"
      ],
      "text/plain": [
       "Sample Sizes  Fe  Mn  Cu  Zn  Ca   K   P\n",
       "C              9   9   9   9   9   9   9\n",
       "E              9   9   9   9   9   9   9\n",
       "L             20  20  20  20  20  20  20\n",
       "Y             24  24  24  24  24  24  24"
      ]
     },
     "execution_count": 4,
     "metadata": {},
     "output_type": "execute_result"
    }
   ],
   "source": [
    "database.infos()"
   ]
  },
  {
   "cell_type": "code",
   "execution_count": 5,
   "metadata": {},
   "outputs": [
    {
     "data": {
      "text/html": [
       "<div>\n",
       "<style scoped>\n",
       "    .dataframe tbody tr th:only-of-type {\n",
       "        vertical-align: middle;\n",
       "    }\n",
       "\n",
       "    .dataframe tbody tr th {\n",
       "        vertical-align: top;\n",
       "    }\n",
       "\n",
       "    .dataframe thead th {\n",
       "        text-align: right;\n",
       "    }\n",
       "</style>\n",
       "<table border=\"1\" class=\"dataframe\">\n",
       "  <thead>\n",
       "    <tr style=\"text-align: right;\">\n",
       "      <th>Means</th>\n",
       "      <th>Fe</th>\n",
       "      <th>Mn</th>\n",
       "      <th>Cu</th>\n",
       "      <th>Zn</th>\n",
       "      <th>Ca</th>\n",
       "      <th>K</th>\n",
       "      <th>P</th>\n",
       "    </tr>\n",
       "  </thead>\n",
       "  <tbody>\n",
       "    <tr>\n",
       "      <th>C</th>\n",
       "      <td>6.21</td>\n",
       "      <td>1470.45</td>\n",
       "      <td>18.23</td>\n",
       "      <td>79.71</td>\n",
       "      <td>165.23</td>\n",
       "      <td>3885.12</td>\n",
       "      <td>0.03</td>\n",
       "    </tr>\n",
       "    <tr>\n",
       "      <th>E</th>\n",
       "      <td>6.76</td>\n",
       "      <td>811.95</td>\n",
       "      <td>23.28</td>\n",
       "      <td>86.02</td>\n",
       "      <td>76.10</td>\n",
       "      <td>3182.27</td>\n",
       "      <td>0.01</td>\n",
       "    </tr>\n",
       "    <tr>\n",
       "      <th>L</th>\n",
       "      <td>6.63</td>\n",
       "      <td>1854.05</td>\n",
       "      <td>20.05</td>\n",
       "      <td>88.28</td>\n",
       "      <td>159.17</td>\n",
       "      <td>6572.31</td>\n",
       "      <td>0.06</td>\n",
       "    </tr>\n",
       "    <tr>\n",
       "      <th>Y</th>\n",
       "      <td>6.16</td>\n",
       "      <td>1119.02</td>\n",
       "      <td>30.92</td>\n",
       "      <td>99.66</td>\n",
       "      <td>276.47</td>\n",
       "      <td>9445.76</td>\n",
       "      <td>0.07</td>\n",
       "    </tr>\n",
       "  </tbody>\n",
       "</table>\n",
       "</div>"
      ],
      "text/plain": [
       "Means    Fe       Mn     Cu     Zn      Ca        K     P\n",
       "C      6.21  1470.45  18.23  79.71  165.23  3885.12  0.03\n",
       "E      6.76   811.95  23.28  86.02   76.10  3182.27  0.01\n",
       "L      6.63  1854.05  20.05  88.28  159.17  6572.31  0.06\n",
       "Y      6.16  1119.02  30.92  99.66  276.47  9445.76  0.07"
      ]
     },
     "execution_count": 5,
     "metadata": {},
     "output_type": "execute_result"
    }
   ],
   "source": [
    "database.means()"
   ]
  },
  {
   "cell_type": "code",
   "execution_count": 6,
   "metadata": {},
   "outputs": [
    {
     "data": {
      "text/html": [
       "<div>\n",
       "<style scoped>\n",
       "    .dataframe tbody tr th:only-of-type {\n",
       "        vertical-align: middle;\n",
       "    }\n",
       "\n",
       "    .dataframe tbody tr th {\n",
       "        vertical-align: top;\n",
       "    }\n",
       "\n",
       "    .dataframe thead th {\n",
       "        text-align: right;\n",
       "    }\n",
       "</style>\n",
       "<table border=\"1\" class=\"dataframe\">\n",
       "  <thead>\n",
       "    <tr style=\"text-align: right;\">\n",
       "      <th>STD</th>\n",
       "      <th>Fe</th>\n",
       "      <th>Mn</th>\n",
       "      <th>Cu</th>\n",
       "      <th>Zn</th>\n",
       "      <th>Ca</th>\n",
       "      <th>K</th>\n",
       "      <th>P</th>\n",
       "    </tr>\n",
       "  </thead>\n",
       "  <tbody>\n",
       "    <tr>\n",
       "      <th>C</th>\n",
       "      <td>0.48</td>\n",
       "      <td>548.49</td>\n",
       "      <td>2.41</td>\n",
       "      <td>7.84</td>\n",
       "      <td>82.19</td>\n",
       "      <td>1598.45</td>\n",
       "      <td>0.01</td>\n",
       "    </tr>\n",
       "    <tr>\n",
       "      <th>E</th>\n",
       "      <td>0.98</td>\n",
       "      <td>399.90</td>\n",
       "      <td>1.98</td>\n",
       "      <td>6.96</td>\n",
       "      <td>26.21</td>\n",
       "      <td>948.95</td>\n",
       "      <td>0.01</td>\n",
       "    </tr>\n",
       "    <tr>\n",
       "      <th>L</th>\n",
       "      <td>1.07</td>\n",
       "      <td>399.77</td>\n",
       "      <td>3.86</td>\n",
       "      <td>15.70</td>\n",
       "      <td>79.33</td>\n",
       "      <td>2205.99</td>\n",
       "      <td>0.01</td>\n",
       "    </tr>\n",
       "    <tr>\n",
       "      <th>Y</th>\n",
       "      <td>1.01</td>\n",
       "      <td>294.13</td>\n",
       "      <td>10.13</td>\n",
       "      <td>8.40</td>\n",
       "      <td>79.37</td>\n",
       "      <td>2419.21</td>\n",
       "      <td>0.02</td>\n",
       "    </tr>\n",
       "  </tbody>\n",
       "</table>\n",
       "</div>"
      ],
      "text/plain": [
       "STD    Fe      Mn     Cu     Zn     Ca        K     P\n",
       "C    0.48  548.49   2.41   7.84  82.19  1598.45  0.01\n",
       "E    0.98  399.90   1.98   6.96  26.21   948.95  0.01\n",
       "L    1.07  399.77   3.86  15.70  79.33  2205.99  0.01\n",
       "Y    1.01  294.13  10.13   8.40  79.37  2419.21  0.02"
      ]
     },
     "execution_count": 6,
     "metadata": {},
     "output_type": "execute_result"
    }
   ],
   "source": [
    "database.std()"
   ]
  },
  {
   "cell_type": "markdown",
   "metadata": {},
   "source": [
    "### 2. Calculating proportions for all combinations and finding the feasible solutions"
   ]
  },
  {
   "cell_type": "markdown",
   "metadata": {},
   "source": [
    "Now we will calculate and save in a file all the possible combinations of proportions contributed by the sediment sources. The routine `calculate_and_save_all_proportions()` will create two files: one for all possible combinations for each sample in the database, saving their indexes, and another file for the corresponding proportions. The default method for calculation is ordinary least squares. Other methods can be chosen using `.set_solver_option(option)`. \n",
    "\n",
    "To set your output folder using `basedata.set_output_folder(path='/yourpath/folder')`"
   ]
  },
  {
   "cell_type": "code",
   "execution_count": 7,
   "metadata": {},
   "outputs": [
    {
     "name": "stdout",
     "output_type": "stream",
     "text": [
      "Setting output folder as: ../output\n",
      "Folder to save output files is: '../output'.\n"
     ]
    }
   ],
   "source": [
    "database.set_output_folder('../output')"
   ]
  },
  {
   "cell_type": "code",
   "execution_count": 8,
   "metadata": {},
   "outputs": [
    {
     "name": "stdout",
     "output_type": "stream",
     "text": [
      "Done! Time processing: 1.9004411697387695\n",
      "Total combinations: 38880 , shape of proportions: (38880, 3)\n",
      "Saving combinations indexes in: ../output/C9E9L20Y24_combs.gzip\n",
      "Saving proportions calculated in: ../output/C9E9L20Y24_props.gzip\n",
      "Feasebles boolean array is saded in: ../output/C9E9L20Y24_feas.gzip\n",
      "Time for save files: 0.07124590873718262\n"
     ]
    }
   ],
   "source": [
    "database.calculate_and_save_all_proportions(load=False, format='gzip')"
   ]
  },
  {
   "cell_type": "markdown",
   "metadata": {},
   "source": [
    "If you want to store the proportions solutions and the combination indexes, you can choose `load=True`(is the defoult option) when call the rotine above. The proportions solutions and the combination indexes wil be  stored on `BasinData`object class.\n",
    "\n",
    "For read the files created and load proportions solutions and the combination indexes we can use the `load_combs_and_props_from_files(combs_file, props_file)` function. A example is showed below."
   ]
  },
  {
   "cell_type": "code",
   "execution_count": 9,
   "metadata": {},
   "outputs": [
    {
     "name": "stdout",
     "output_type": "stream",
     "text": [
      "Loading combs and props files from: ../output\n"
     ]
    }
   ],
   "source": [
    "combs, Ps = database.load_combs_and_props_from_files(database.output_folder+'/C9E9L20Y24_combs.gzip',\n",
    "                                                     database.output_folder+'/C9E9L20Y24_props.gzip')"
   ]
  },
  {
   "cell_type": "code",
   "execution_count": null,
   "metadata": {},
   "outputs": [],
   "source": []
  },
  {
   "cell_type": "code",
   "execution_count": 10,
   "metadata": {},
   "outputs": [
    {
     "name": "stdout",
     "output_type": "stream",
     "text": [
      "Loading feasebles proportion indexes from: ../output\n"
     ]
    }
   ],
   "source": [
    "is_feas = database.load_feasebles_from_file(database.output_folder+'/C9E9L20Y24_feas.gzip')"
   ]
  },
  {
   "cell_type": "markdown",
   "metadata": {},
   "source": [
    "We can verify the loaded array data as follows:"
   ]
  },
  {
   "cell_type": "code",
   "execution_count": 11,
   "metadata": {},
   "outputs": [
    {
     "data": {
      "text/plain": [
       "array([[ 0,  0,  0,  0],\n",
       "       [ 0,  0,  0,  1],\n",
       "       [ 0,  0,  0,  2],\n",
       "       ...,\n",
       "       [ 8,  8, 19, 21],\n",
       "       [ 8,  8, 19, 22],\n",
       "       [ 8,  8, 19, 23]], dtype=uint16)"
      ]
     },
     "metadata": {},
     "output_type": "display_data"
    },
    {
     "data": {
      "text/plain": [
       "array([[ 0.4450376 , -0.29766154,  0.85262394],\n",
       "       [ 0.3761485 ,  0.12799704,  0.49585447],\n",
       "       [ 0.3453723 ,  0.12478452,  0.52984315],\n",
       "       ...,\n",
       "       [ 0.49628267, -0.00805024,  0.51176757],\n",
       "       [ 0.421166  , -0.66756773,  1.2464017 ],\n",
       "       [-0.06792153, -0.13803147,  1.205953  ]], dtype=float32)"
      ]
     },
     "metadata": {},
     "output_type": "display_data"
    }
   ],
   "source": [
    "display(combs, Ps)"
   ]
  },
  {
   "cell_type": "markdown",
   "metadata": {},
   "source": [
    "The solutions considered feasible are those in which $P_i>0$. "
   ]
  },
  {
   "cell_type": "code",
   "execution_count": 12,
   "metadata": {},
   "outputs": [
    {
     "name": "stdout",
     "output_type": "stream",
     "text": [
      "The total number of solution is: 38880\n",
      "The number of feasible solution is: 8132\n"
     ]
    }
   ],
   "source": [
    "print(\"The total number of solution is:\", len(Ps))\n",
    "print(\"The number of feasible solution is:\", len(Ps[database.feas]))"
   ]
  },
  {
   "cell_type": "markdown",
   "metadata": {},
   "source": [
    "### 3. Confidence region and randon subsamples from stat.py"
   ]
  },
  {
   "cell_type": "markdown",
   "metadata": {},
   "source": [
    "A confidence region can be calculated in 2 dimentions using, for example, the $95 \\%$ points closest to the feaseble proportions average using Mahalanobis's distances until the mean of feaseble proportions. A more detailed explanation can be can be obtained in the Clarke and Minella's paper.\n",
    "\n",
    "The `stat` module  implement a function for get a confidence region, as can be seen in the example below."
   ]
  },
  {
   "cell_type": "code",
   "execution_count": 13,
   "metadata": {},
   "outputs": [],
   "source": [
    "from pysasf import stats"
   ]
  },
  {
   "cell_type": "code",
   "execution_count": 14,
   "metadata": {},
   "outputs": [],
   "source": [
    "subset = stats.random_props_subset(Ps[database.feas], 500)"
   ]
  },
  {
   "cell_type": "code",
   "execution_count": 15,
   "metadata": {},
   "outputs": [
    {
     "name": "stdout",
     "output_type": "stream",
     "text": [
      "The total number of points in 95% confidence region is: 475\n"
     ]
    }
   ],
   "source": [
    "Pcr = stats.confidence_region(subset[:,0:2], space_dist='mahalanobis')\n",
    "print(\"The total number of points in 95% confidence region is:\", len(Pcr))"
   ]
  },
  {
   "cell_type": "markdown",
   "metadata": {},
   "source": [
    "Lets draw the confidence region usin the `draw_hull(pts)` function from `plots`module."
   ]
  },
  {
   "cell_type": "code",
   "execution_count": 16,
   "metadata": {},
   "outputs": [
    {
     "name": "stdout",
     "output_type": "stream",
     "text": [
      "Please, set a path to save the convex hull figure.\n"
     ]
    },
    {
     "data": {
      "image/png": "[encoded data removed]",
      "text/plain": [
       "<Figure size 400x400 with 1 Axes>"
      ]
     },
     "metadata": {},
     "output_type": "display_data"
    }
   ],
   "source": [
    "from pysasf import plots\n",
    "plots.draw_hull(Pcr, title = 'Confidence region')"
   ]
  },
  {
   "cell_type": "markdown",
   "metadata": {},
   "source": [
    "### 4. Processing data from reductions and repetitions "
   ]
  },
  {
   "cell_type": "markdown",
   "metadata": {},
   "source": [
    "As a result of Clarke and Minella's article presents \n",
    "table and graphs of average values ​​for 50 repetitions taking\n",
    "subsamples of different sizes drawn from each sample set.\n",
    "A 95% confidence regions are calculated for each sample reduction and the proportions $P_1$ and $P_2$,\n",
    "along with the standard deviations is calculated."
   ]
  },
  {
   "cell_type": "markdown",
   "metadata": {},
   "source": [
    "De full analysis can be repreduced and customized using the routine `run_repetitions_and_reduction (basindata, source_key, list_of_reductions,repetitions=50)`. The results is saved in a `csv`file an can be stored and load later. A example is showed below."
   ]
  },
  {
   "cell_type": "code",
   "execution_count": 17,
   "metadata": {},
   "outputs": [],
   "source": [
    "import pysasf.clarkeminella as cm"
   ]
  },
  {
   "cell_type": "code",
   "execution_count": 18,
   "metadata": {},
   "outputs": [
    {
     "data": {
      "text/plain": [
       "'../output'"
      ]
     },
     "execution_count": 18,
     "metadata": {},
     "output_type": "execute_result"
    }
   ],
   "source": [
    "database.output_folder"
   ]
  },
  {
   "cell_type": "code",
   "execution_count": 19,
   "metadata": {},
   "outputs": [
    {
     "data": {
      "text/plain": [
       "'/C9E9L20Y24'"
      ]
     },
     "execution_count": 19,
     "metadata": {},
     "output_type": "execute_result"
    }
   ],
   "source": [
    "database.filename"
   ]
  },
  {
   "cell_type": "code",
   "execution_count": 20,
   "metadata": {},
   "outputs": [
    {
     "name": "stdout",
     "output_type": "stream",
     "text": [
      "Time for all runs: 0.6471490859985352\n",
      "Saving in target23_L-2-4-8-12-16-20.csv\n"
     ]
    }
   ],
   "source": [
    "name = database.filename\n",
    "\n",
    "for idx in range(24):\n",
    "    print(\"Running target:\",idx)\n",
    "    database.filename = 'target'+str(idx) \n",
    "    df_CB = cm.run_repetitions_and_reduction (database, 'C',[10,20,40,60,80,100], percents = True, target=idx)\n",
    "    df_UR = cm.run_repetitions_and_reduction (database, 'E',[10,20,40,60,80,100], percents = True, target=idx)\n",
    "    df_CF = cm.run_repetitions_and_reduction (database, 'L',[10,20,40,60,80,100], percents = True, target=idx)\n",
    "    "
   ]
  },
  {
   "cell_type": "code",
   "execution_count": 21,
   "metadata": {},
   "outputs": [
    {
     "name": "stdout",
     "output_type": "stream",
     "text": [
      "Plot figure saved in: ../output/target0.png\n",
      "Plot figure saved in: ../output/target1.png\n",
      "Plot figure saved in: ../output/target2.png\n",
      "Plot figure saved in: ../output/target3.png\n",
      "Plot figure saved in: ../output/target4.png\n",
      "Plot figure saved in: ../output/target5.png\n",
      "Plot figure saved in: ../output/target6.png\n",
      "Plot figure saved in: ../output/target7.png\n",
      "Plot figure saved in: ../output/target8.png\n",
      "Plot figure saved in: ../output/target9.png\n",
      "Plot figure saved in: ../output/target10.png\n",
      "Plot figure saved in: ../output/target11.png\n",
      "Plot figure saved in: ../output/target12.png\n",
      "Plot figure saved in: ../output/target13.png\n",
      "Plot figure saved in: ../output/target14.png\n",
      "Plot figure saved in: ../output/target15.png\n",
      "Plot figure saved in: ../output/target16.png\n",
      "Plot figure saved in: ../output/target17.png\n",
      "Plot figure saved in: ../output/target18.png\n",
      "Plot figure saved in: ../output/target19.png\n",
      "Plot figure saved in: ../output/target20.png\n",
      "Plot figure saved in: ../output/target21.png\n",
      "Plot figure saved in: ../output/target22.png\n",
      "Plot figure saved in: ../output/target23.png\n"
     ]
    }
   ],
   "source": [
    "from pysasf import plots\n",
    "\n",
    "for idx in range(24):\n",
    "    files = [database.output_folder+'/'+'target'+str(idx)+'_C-1-2-4-5-7-9.csv',\n",
    "             database.output_folder+'/'+'target'+str(idx)+'_E-1-2-4-5-7-9.csv',\n",
    "             database.output_folder+'/'+'target'+str(idx)+'_L-2-4-8-12-16-20.csv']\n",
    "    \n",
    "    name = 'target'+str(idx)\n",
    "    plots.plot_cm_outputs(files, 'nSamp', 'CV', savefig=True, fname= name)"
   ]
  },
  {
   "cell_type": "code",
   "execution_count": null,
   "metadata": {},
   "outputs": [],
   "source": []
  },
  {
   "cell_type": "code",
   "execution_count": null,
   "metadata": {},
   "outputs": [],
   "source": []
  }
 ],
 "metadata": {
  "colab": {
   "name": "fingerprinting_v3.ipynb",
   "version": ""
  },
  "kernelspec": {
   "display_name": "Python 3 (ipykernel)",
   "language": "python",
   "name": "python3"
  },
  "language_info": {
   "codemirror_mode": {
    "name": "ipython",
    "version": 3
   },
   "file_extension": ".py",
   "mimetype": "text/x-python",
   "name": "python",
   "nbconvert_exporter": "python",
   "pygments_lexer": "ipython3",
   "version": "3.12.4"
  }
 },
 "nbformat": 4,
 "nbformat_minor": 4
}
