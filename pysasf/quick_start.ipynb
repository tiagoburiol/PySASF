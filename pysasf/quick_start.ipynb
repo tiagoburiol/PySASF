{
 "cells": [
  {
   "cell_type": "markdown",
   "metadata": {},
   "source": [
    "## Example of usage\n",
    "### 1. Loading the data"
   ]
  },
  {
   "cell_type": "markdown",
   "metadata": {},
   "source": [
    "A good begin is to import the object class `BasinData` to instance and store data from a basin sediment sources. A instance of `BasinData` should be created and data load from a file. Is usual store data files in the 'data' directory one level above. The import and the creation of a instance of `BasinData` is showed below."
   ]
  },
  {
   "cell_type": "code",
   "execution_count": 1,
   "metadata": {},
   "outputs": [],
   "source": [
    "from basindata import BasinData"
   ]
  },
  {
   "cell_type": "code",
   "execution_count": 2,
   "metadata": {},
   "outputs": [],
   "source": [
    "arvorezinha = BasinData(\"../data/arvorezinha_database.xlsx\")"
   ]
  },
  {
   "cell_type": "markdown",
   "metadata": {},
   "source": [
    "Since the file is load, some information and statistics can be visualizated as in the following examples ."
   ]
  },
  {
   "cell_type": "code",
   "execution_count": 3,
   "metadata": {},
   "outputs": [
    {
     "data": {
      "text/html": [
       "<div>\n",
       "<style scoped>\n",
       "    .dataframe tbody tr th:only-of-type {\n",
       "        vertical-align: middle;\n",
       "    }\n",
       "\n",
       "    .dataframe tbody tr th {\n",
       "        vertical-align: top;\n",
       "    }\n",
       "\n",
       "    .dataframe thead th {\n",
       "        text-align: right;\n",
       "    }\n",
       "</style>\n",
       "<table border=\"1\" class=\"dataframe\">\n",
       "  <thead>\n",
       "    <tr style=\"text-align: right;\">\n",
       "      <th>Sample Sizes</th>\n",
       "      <th>Fe</th>\n",
       "      <th>Mn</th>\n",
       "      <th>Cu</th>\n",
       "      <th>Zn</th>\n",
       "      <th>Ca</th>\n",
       "      <th>K</th>\n",
       "      <th>P</th>\n",
       "    </tr>\n",
       "  </thead>\n",
       "  <tbody>\n",
       "    <tr>\n",
       "      <th>C</th>\n",
       "      <td>9</td>\n",
       "      <td>9</td>\n",
       "      <td>9</td>\n",
       "      <td>9</td>\n",
       "      <td>9</td>\n",
       "      <td>9</td>\n",
       "      <td>9</td>\n",
       "    </tr>\n",
       "    <tr>\n",
       "      <th>E</th>\n",
       "      <td>9</td>\n",
       "      <td>9</td>\n",
       "      <td>9</td>\n",
       "      <td>9</td>\n",
       "      <td>9</td>\n",
       "      <td>9</td>\n",
       "      <td>9</td>\n",
       "    </tr>\n",
       "    <tr>\n",
       "      <th>L</th>\n",
       "      <td>20</td>\n",
       "      <td>20</td>\n",
       "      <td>20</td>\n",
       "      <td>20</td>\n",
       "      <td>20</td>\n",
       "      <td>20</td>\n",
       "      <td>20</td>\n",
       "    </tr>\n",
       "    <tr>\n",
       "      <th>Y</th>\n",
       "      <td>24</td>\n",
       "      <td>24</td>\n",
       "      <td>24</td>\n",
       "      <td>24</td>\n",
       "      <td>24</td>\n",
       "      <td>24</td>\n",
       "      <td>24</td>\n",
       "    </tr>\n",
       "  </tbody>\n",
       "</table>\n",
       "</div>"
      ],
      "text/plain": [
       "Sample Sizes  Fe  Mn  Cu  Zn  Ca   K   P\n",
       "C              9   9   9   9   9   9   9\n",
       "E              9   9   9   9   9   9   9\n",
       "L             20  20  20  20  20  20  20\n",
       "Y             24  24  24  24  24  24  24"
      ]
     },
     "execution_count": 3,
     "metadata": {},
     "output_type": "execute_result"
    }
   ],
   "source": [
    "arvorezinha.infos()"
   ]
  },
  {
   "cell_type": "code",
   "execution_count": 4,
   "metadata": {},
   "outputs": [
    {
     "data": {
      "text/html": [
       "<div>\n",
       "<style scoped>\n",
       "    .dataframe tbody tr th:only-of-type {\n",
       "        vertical-align: middle;\n",
       "    }\n",
       "\n",
       "    .dataframe tbody tr th {\n",
       "        vertical-align: top;\n",
       "    }\n",
       "\n",
       "    .dataframe thead th {\n",
       "        text-align: right;\n",
       "    }\n",
       "</style>\n",
       "<table border=\"1\" class=\"dataframe\">\n",
       "  <thead>\n",
       "    <tr style=\"text-align: right;\">\n",
       "      <th>Means</th>\n",
       "      <th>Fe</th>\n",
       "      <th>Mn</th>\n",
       "      <th>Cu</th>\n",
       "      <th>Zn</th>\n",
       "      <th>Ca</th>\n",
       "      <th>K</th>\n",
       "      <th>P</th>\n",
       "    </tr>\n",
       "  </thead>\n",
       "  <tbody>\n",
       "    <tr>\n",
       "      <th>C</th>\n",
       "      <td>6.21</td>\n",
       "      <td>1470.45</td>\n",
       "      <td>18.23</td>\n",
       "      <td>79.71</td>\n",
       "      <td>165.23</td>\n",
       "      <td>3885.12</td>\n",
       "      <td>0.03</td>\n",
       "    </tr>\n",
       "    <tr>\n",
       "      <th>E</th>\n",
       "      <td>6.76</td>\n",
       "      <td>811.95</td>\n",
       "      <td>23.28</td>\n",
       "      <td>86.02</td>\n",
       "      <td>76.10</td>\n",
       "      <td>3182.27</td>\n",
       "      <td>0.01</td>\n",
       "    </tr>\n",
       "    <tr>\n",
       "      <th>L</th>\n",
       "      <td>6.63</td>\n",
       "      <td>1854.05</td>\n",
       "      <td>20.05</td>\n",
       "      <td>88.28</td>\n",
       "      <td>159.17</td>\n",
       "      <td>6572.31</td>\n",
       "      <td>0.06</td>\n",
       "    </tr>\n",
       "    <tr>\n",
       "      <th>Y</th>\n",
       "      <td>6.16</td>\n",
       "      <td>1119.02</td>\n",
       "      <td>30.92</td>\n",
       "      <td>99.66</td>\n",
       "      <td>276.47</td>\n",
       "      <td>9445.76</td>\n",
       "      <td>0.07</td>\n",
       "    </tr>\n",
       "  </tbody>\n",
       "</table>\n",
       "</div>"
      ],
      "text/plain": [
       "Means    Fe       Mn     Cu     Zn      Ca        K     P\n",
       "C      6.21  1470.45  18.23  79.71  165.23  3885.12  0.03\n",
       "E      6.76   811.95  23.28  86.02   76.10  3182.27  0.01\n",
       "L      6.63  1854.05  20.05  88.28  159.17  6572.31  0.06\n",
       "Y      6.16  1119.02  30.92  99.66  276.47  9445.76  0.07"
      ]
     },
     "metadata": {},
     "output_type": "display_data"
    }
   ],
   "source": [
    "arvorezinha.means()"
   ]
  },
  {
   "cell_type": "code",
   "execution_count": 5,
   "metadata": {},
   "outputs": [
    {
     "data": {
      "text/html": [
       "<div>\n",
       "<style scoped>\n",
       "    .dataframe tbody tr th:only-of-type {\n",
       "        vertical-align: middle;\n",
       "    }\n",
       "\n",
       "    .dataframe tbody tr th {\n",
       "        vertical-align: top;\n",
       "    }\n",
       "\n",
       "    .dataframe thead th {\n",
       "        text-align: right;\n",
       "    }\n",
       "</style>\n",
       "<table border=\"1\" class=\"dataframe\">\n",
       "  <thead>\n",
       "    <tr style=\"text-align: right;\">\n",
       "      <th>STD</th>\n",
       "      <th>Fe</th>\n",
       "      <th>Mn</th>\n",
       "      <th>Cu</th>\n",
       "      <th>Zn</th>\n",
       "      <th>Ca</th>\n",
       "      <th>K</th>\n",
       "      <th>P</th>\n",
       "    </tr>\n",
       "  </thead>\n",
       "  <tbody>\n",
       "    <tr>\n",
       "      <th>C</th>\n",
       "      <td>0.48</td>\n",
       "      <td>548.49</td>\n",
       "      <td>2.41</td>\n",
       "      <td>7.84</td>\n",
       "      <td>82.19</td>\n",
       "      <td>1598.45</td>\n",
       "      <td>0.01</td>\n",
       "    </tr>\n",
       "    <tr>\n",
       "      <th>E</th>\n",
       "      <td>0.98</td>\n",
       "      <td>399.90</td>\n",
       "      <td>1.98</td>\n",
       "      <td>6.96</td>\n",
       "      <td>26.21</td>\n",
       "      <td>948.95</td>\n",
       "      <td>0.01</td>\n",
       "    </tr>\n",
       "    <tr>\n",
       "      <th>L</th>\n",
       "      <td>1.07</td>\n",
       "      <td>399.77</td>\n",
       "      <td>3.86</td>\n",
       "      <td>15.70</td>\n",
       "      <td>79.33</td>\n",
       "      <td>2205.99</td>\n",
       "      <td>0.01</td>\n",
       "    </tr>\n",
       "    <tr>\n",
       "      <th>Y</th>\n",
       "      <td>1.01</td>\n",
       "      <td>294.13</td>\n",
       "      <td>10.13</td>\n",
       "      <td>8.40</td>\n",
       "      <td>79.37</td>\n",
       "      <td>2419.21</td>\n",
       "      <td>0.02</td>\n",
       "    </tr>\n",
       "  </tbody>\n",
       "</table>\n",
       "</div>"
      ],
      "text/plain": [
       "STD    Fe      Mn     Cu     Zn     Ca        K     P\n",
       "C    0.48  548.49   2.41   7.84  82.19  1598.45  0.01\n",
       "E    0.98  399.90   1.98   6.96  26.21   948.95  0.01\n",
       "L    1.07  399.77   3.86  15.70  79.33  2205.99  0.01\n",
       "Y    1.01  294.13  10.13   8.40  79.37  2419.21  0.02"
      ]
     },
     "metadata": {},
     "output_type": "display_data"
    }
   ],
   "source": [
    "arvorezinha.std()"
   ]
  },
  {
   "cell_type": "markdown",
   "metadata": {},
   "source": [
    "### 2. Using the clarkeminela module\n",
    "\n",
    "We can easily reproduce the Clarke and Minella (2016) method of measures the increase in uncertainty when sampling sediment fingerprinting. The full explanation of this method is avaliable in the paper \"Evaluating sampling efficiency when estimating sediment source contributions to suspended sediment in rivers by fingerprinting\". DOI: 10.1002/hyp.10866. The steps needed to achieve the same results described in paper can be executed by a few functions calls as will be shown below"
   ]
  },
  {
   "cell_type": "markdown",
   "metadata": {},
   "source": [
    "First we need to import the `clarckeminella` analysis module. We will call it `cm`. "
   ]
  },
  {
   "cell_type": "code",
   "execution_count": 6,
   "metadata": {},
   "outputs": [],
   "source": [
    "import clarkeminella as cm"
   ]
  },
  {
   "cell_type": "markdown",
   "metadata": {},
   "source": [
    "Now we will calculate and save in a file all the combinations possible for proportions contribuited by the sediment sources. The rotine `calculate_and_save_all_proportions()` will create two files, one for all cobinations possible for eath sample in data base, savis its indexes, and the corresponding proportions. The defoult method for calculate is the ordinary least square. Other methods can be choosed by `bd.set_solver_option(option)`. "
   ]
  },
  {
   "cell_type": "code",
   "execution_count": 7,
   "metadata": {},
   "outputs": [
    {
     "name": "stdout",
     "output_type": "stream",
     "text": [
      "Calculating all proportions...\n",
      "Done! Time processing: 2.6964030265808105\n",
      "Total combinations: 38880 , shape of proportions: (38880, 3)\n",
      "Folder to save output files is: '../output'.\n",
      "Saving combinations indexes in: C9E9L20Y24_combs.txt\n",
      "Saving proportions calculated in: C9E9L20Y24_props.txt\n",
      "Time for save files: 0.1439964771270752\n"
     ]
    }
   ],
   "source": [
    "arvorezinha.calculate_and_save_all_proportions(load=False)"
   ]
  },
  {
   "cell_type": "markdown",
   "metadata": {},
   "source": [
    "If you want to store the proportions solutions and the combination indexes, you can choose `load=True`(is the defoult option) when call the rotine above. The proportions solutions and the combination indexes wil be  stored on `BasinData`object class.\n",
    "\n",
    "For read the files created and load proportions solutions and the combination indexes we can use the `load_combs_and_props_from_files(combs_file, props_file)` function. A example is showed below."
   ]
  },
  {
   "cell_type": "code",
   "execution_count": 8,
   "metadata": {},
   "outputs": [],
   "source": [
    "combs, Ps = arvorezinha.load_combs_and_props_from_files('../output/C9E9L20Y24_combs.txt',\n",
    "                                                        '../output/C9E9L20Y24_props.txt')"
   ]
  },
  {
   "cell_type": "markdown",
   "metadata": {},
   "source": [
    "We can verify de array data loaded making."
   ]
  },
  {
   "cell_type": "code",
   "execution_count": 9,
   "metadata": {},
   "outputs": [
    {
     "data": {
      "text/plain": [
       "array([[ 0,  0,  0,  0],\n",
       "       [ 0,  0,  0,  1],\n",
       "       [ 0,  0,  0,  2],\n",
       "       ...,\n",
       "       [ 8,  8, 19, 21],\n",
       "       [ 8,  8, 19, 22],\n",
       "       [ 8,  8, 19, 23]])"
      ]
     },
     "metadata": {},
     "output_type": "display_data"
    },
    {
     "data": {
      "text/plain": [
       "array([[ 0.445 , -0.2977,  0.8526],\n",
       "       [ 0.3761,  0.128 ,  0.4959],\n",
       "       [ 0.3454,  0.1248,  0.5298],\n",
       "       ...,\n",
       "       [ 0.4963, -0.0081,  0.5118],\n",
       "       [ 0.4212, -0.6676,  1.2464],\n",
       "       [-0.0679, -0.138 ,  1.206 ]])"
      ]
     },
     "metadata": {},
     "output_type": "display_data"
    }
   ],
   "source": [
    "display(combs, Ps)"
   ]
  },
  {
   "cell_type": "markdown",
   "metadata": {},
   "source": [
    "The Clarke and Minella's criterion for considering a feasible solution is that the proportion contributed by each source $P_i$ is such that $0<P_i<1$. We can extract the feaseble solutions usin a function `cm_feasebles` of `clarckeminella` analysis module. This is showed below."
   ]
  },
  {
   "cell_type": "code",
   "execution_count": 10,
   "metadata": {},
   "outputs": [
    {
     "name": "stdout",
     "output_type": "stream",
     "text": [
      "The total number of feasible solution is: 8132\n"
     ]
    }
   ],
   "source": [
    "Pfea = cm.cm_feasebles(Ps)\n",
    "print(\"The total number of feasible solution is:\", len(Pfea))"
   ]
  },
  {
   "cell_type": "markdown",
   "metadata": {},
   "source": [
    "A confidence region can be calculated in 2 dimentions using the $95 \\%$ points closest to the feaseble proportions average usin distances given by $(P_i-P^*)^T S^{-1}(P_i-P^*)$, where $S$ is the $2 \\times 2$ variance-covariance matrix of the feasible solutions and \n",
    "$P^*$ is the mean of feaseble proportions.\n",
    "\n",
    "A more detailed explanation can be can be obtained in the Clarke and Minella's paper.\n",
    "\n",
    "The `clarckeminella` module  implement a function for get a confidence region, as can be seen in the example below."
   ]
  },
  {
   "cell_type": "code",
   "execution_count": 11,
   "metadata": {},
   "outputs": [
    {
     "name": "stdout",
     "output_type": "stream",
     "text": [
      "The total number of points in 95% confidence region is: 8132\n"
     ]
    }
   ],
   "source": [
    "Pcr = cm.confidence_region(Pfea)\n",
    "print(\"The total number of points in 95% confidence region is:\", len(Pfea))"
   ]
  },
  {
   "cell_type": "markdown",
   "metadata": {},
   "source": [
    "Lets draw the confidence region usin the `draw_hull(pts)` function."
   ]
  },
  {
   "cell_type": "code",
   "execution_count": 12,
   "metadata": {},
   "outputs": [
    {
     "data": {
      "image/png": "[encoded data removed]",
      "text/plain": [
       "<Figure size 400x400 with 1 Axes>"
      ]
     },
     "metadata": {},
     "output_type": "display_data"
    },
    {
     "data": {
      "text/plain": [
       "<scipy.spatial._qhull.ConvexHull at 0x7fede0c56660>"
      ]
     },
     "execution_count": 12,
     "metadata": {},
     "output_type": "execute_result"
    }
   ],
   "source": [
    "cm.draw_hull(Pcr)"
   ]
  },
  {
   "cell_type": "code",
   "execution_count": 13,
   "metadata": {},
   "outputs": [
    {
     "data": {
      "text/plain": [
       "array([[ 0.445 , -0.2977,  0.8526],\n",
       "       [ 0.3761,  0.128 ,  0.4959],\n",
       "       [ 0.3454,  0.1248,  0.5298],\n",
       "       ...,\n",
       "       [ 0.4963, -0.0081,  0.5118],\n",
       "       [ 0.4212, -0.6676,  1.2464],\n",
       "       [-0.0679, -0.138 ,  1.206 ]])"
      ]
     },
     "execution_count": 13,
     "metadata": {},
     "output_type": "execute_result"
    }
   ],
   "source": [
    "arvorezinha.props"
   ]
  },
  {
   "cell_type": "code",
   "execution_count": 14,
   "metadata": {},
   "outputs": [
    {
     "data": {
      "text/plain": [
       "array([[ 0,  0,  0,  0],\n",
       "       [ 0,  0,  0,  1],\n",
       "       [ 0,  0,  0,  2],\n",
       "       ...,\n",
       "       [ 8,  8, 19, 21],\n",
       "       [ 8,  8, 19, 22],\n",
       "       [ 8,  8, 19, 23]])"
      ]
     },
     "execution_count": 14,
     "metadata": {},
     "output_type": "execute_result"
    }
   ],
   "source": [
    "arvorezinha.combs"
   ]
  },
  {
   "cell_type": "markdown",
   "metadata": {},
   "source": [
    "### 3. Processing data from reductions and repetitions "
   ]
  },
  {
   "cell_type": "markdown",
   "metadata": {},
   "source": [
    "As a result of Clarke and Minella's article presents \n",
    "table and graphs of average values ​​for 50 repetitions taking\n",
    "subsamples of different sizes drawn from each sample set.\n",
    "A 95% confidence regions are calculated for each sample reduction and the proportions $P_1$ and $P_2$,\n",
    "along with the standard deviations is calculated."
   ]
  },
  {
   "cell_type": "markdown",
   "metadata": {},
   "source": [
    "De full analysis can be repreduced and customized usin the routine `run_repetitions_and_reduction (basindata, source_key, list_of_reductions,repetitions=50)`. The results is saved in a `csv`file an can be stored and load later. A example is showed below."
   ]
  },
  {
   "cell_type": "code",
   "execution_count": 15,
   "metadata": {},
   "outputs": [
    {
     "data": {
      "text/html": [
       "<div>\n",
       "<style scoped>\n",
       "    .dataframe tbody tr th:only-of-type {\n",
       "        vertical-align: middle;\n",
       "    }\n",
       "\n",
       "    .dataframe tbody tr th {\n",
       "        vertical-align: top;\n",
       "    }\n",
       "\n",
       "    .dataframe thead th {\n",
       "        text-align: right;\n",
       "    }\n",
       "</style>\n",
       "<table border=\"1\" class=\"dataframe\">\n",
       "  <thead>\n",
       "    <tr style=\"text-align: right;\">\n",
       "      <th></th>\n",
       "      <th>nSamp</th>\n",
       "      <th>CV</th>\n",
       "      <th>Mean</th>\n",
       "      <th>Std</th>\n",
       "      <th>Total</th>\n",
       "      <th>Feas</th>\n",
       "      <th>MeanP1</th>\n",
       "      <th>MeanP2</th>\n",
       "      <th>MeanP3</th>\n",
       "    </tr>\n",
       "  </thead>\n",
       "  <tbody>\n",
       "    <tr>\n",
       "      <th>0</th>\n",
       "      <td>2</td>\n",
       "      <td>11.1479</td>\n",
       "      <td>0.3609</td>\n",
       "      <td>0.0402</td>\n",
       "      <td>3240</td>\n",
       "      <td>379</td>\n",
       "      <td>0.298920</td>\n",
       "      <td>0.212890</td>\n",
       "      <td>0.488192</td>\n",
       "    </tr>\n",
       "    <tr>\n",
       "      <th>1</th>\n",
       "      <td>4</td>\n",
       "      <td>5.7230</td>\n",
       "      <td>0.3879</td>\n",
       "      <td>0.0222</td>\n",
       "      <td>6480</td>\n",
       "      <td>746</td>\n",
       "      <td>0.326359</td>\n",
       "      <td>0.216039</td>\n",
       "      <td>0.457600</td>\n",
       "    </tr>\n",
       "    <tr>\n",
       "      <th>2</th>\n",
       "      <td>8</td>\n",
       "      <td>4.3644</td>\n",
       "      <td>0.3949</td>\n",
       "      <td>0.0172</td>\n",
       "      <td>12960</td>\n",
       "      <td>3413</td>\n",
       "      <td>0.354423</td>\n",
       "      <td>0.225666</td>\n",
       "      <td>0.419910</td>\n",
       "    </tr>\n",
       "    <tr>\n",
       "      <th>3</th>\n",
       "      <td>12</td>\n",
       "      <td>2.6970</td>\n",
       "      <td>0.3989</td>\n",
       "      <td>0.0108</td>\n",
       "      <td>19440</td>\n",
       "      <td>3358</td>\n",
       "      <td>0.332960</td>\n",
       "      <td>0.253789</td>\n",
       "      <td>0.413251</td>\n",
       "    </tr>\n",
       "    <tr>\n",
       "      <th>4</th>\n",
       "      <td>16</td>\n",
       "      <td>1.5792</td>\n",
       "      <td>0.3992</td>\n",
       "      <td>0.0063</td>\n",
       "      <td>25920</td>\n",
       "      <td>5829</td>\n",
       "      <td>0.356475</td>\n",
       "      <td>0.247702</td>\n",
       "      <td>0.395823</td>\n",
       "    </tr>\n",
       "    <tr>\n",
       "      <th>5</th>\n",
       "      <td>20</td>\n",
       "      <td>1.0663</td>\n",
       "      <td>0.4022</td>\n",
       "      <td>0.0043</td>\n",
       "      <td>32400</td>\n",
       "      <td>6489</td>\n",
       "      <td>0.339197</td>\n",
       "      <td>0.255122</td>\n",
       "      <td>0.405680</td>\n",
       "    </tr>\n",
       "    <tr>\n",
       "      <th>6</th>\n",
       "      <td>24</td>\n",
       "      <td>0.0000</td>\n",
       "      <td>0.4024</td>\n",
       "      <td>0.0000</td>\n",
       "      <td>38880</td>\n",
       "      <td>8132</td>\n",
       "      <td>0.339917</td>\n",
       "      <td>0.245394</td>\n",
       "      <td>0.414688</td>\n",
       "    </tr>\n",
       "  </tbody>\n",
       "</table>\n",
       "</div>"
      ],
      "text/plain": [
       "   nSamp       CV    Mean     Std  Total  Feas    MeanP1    MeanP2    MeanP3\n",
       "0      2  11.1479  0.3609  0.0402   3240   379  0.298920  0.212890  0.488192\n",
       "1      4   5.7230  0.3879  0.0222   6480   746  0.326359  0.216039  0.457600\n",
       "2      8   4.3644  0.3949  0.0172  12960  3413  0.354423  0.225666  0.419910\n",
       "3     12   2.6970  0.3989  0.0108  19440  3358  0.332960  0.253789  0.413251\n",
       "4     16   1.5792  0.3992  0.0063  25920  5829  0.356475  0.247702  0.395823\n",
       "5     20   1.0663  0.4022  0.0043  32400  6489  0.339197  0.255122  0.405680\n",
       "6     24   0.0000  0.4024  0.0000  38880  8132  0.339917  0.245394  0.414688"
      ]
     },
     "metadata": {},
     "output_type": "display_data"
    },
    {
     "name": "stdout",
     "output_type": "stream",
     "text": [
      "Saving in C9E9L20Y24_Y-2-4-8-12-16-20-24.csv\n"
     ]
    }
   ],
   "source": [
    "tableY = cm.run_repetitions_and_reduction (arvorezinha, 'Y',[2,4,8,12,16,20,24])"
   ]
  },
  {
   "cell_type": "code",
   "execution_count": null,
   "metadata": {},
   "outputs": [
    {
     "name": "stdout",
     "output_type": "stream",
     "text": [
      "Processing for 12 subsamples of L , repetition number 46\n"
     ]
    }
   ],
   "source": [
    "tableL = cm.run_repetitions_and_reduction (arvorezinha, 'L',[2,4,8,12,16,20,])"
   ]
  },
  {
   "cell_type": "markdown",
   "metadata": {},
   "source": [
    "Finally the results can be ploted by columns setting the files and the names of columns to be ploted, like the example below.\n"
   ]
  },
  {
   "cell_type": "code",
   "execution_count": null,
   "metadata": {},
   "outputs": [],
   "source": [
    "import plots\n",
    "files = ['../output/C9E9L20Y24_Y-2-4-8-12-16-20-24.csv',\n",
    "         '../output/C9E9L20Y24_L-2-4-8-12-16-20.csv']\n",
    "\n",
    "plots.plot_cm_outputs(files, 'nSamp', 'CV')"
   ]
  },
  {
   "cell_type": "code",
   "execution_count": null,
   "metadata": {},
   "outputs": [],
   "source": []
  },
  {
   "cell_type": "code",
   "execution_count": null,
   "metadata": {},
   "outputs": [],
   "source": []
  }
 ],
 "metadata": {
  "colab": {
   "name": "fingerprinting_v3.ipynb",
   "version": ""
  },
  "kernelspec": {
   "display_name": "Python 3 (ipykernel)",
   "language": "python",
   "name": "python3"
  },
  "language_info": {
   "codemirror_mode": {
    "name": "ipython",
    "version": 3
   },
   "file_extension": ".py",
   "mimetype": "text/x-python",
   "name": "python",
   "nbconvert_exporter": "python",
   "pygments_lexer": "ipython3",
   "version": "3.12.4"
  }
 },
 "nbformat": 4,
 "nbformat_minor": 4
}
